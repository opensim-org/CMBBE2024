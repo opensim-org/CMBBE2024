{
  "cells": [
    {
      "cell_type": "markdown",
      "metadata": {
        "id": "YS-0eq5Y6BjU"
      },
      "source": [
        "# 3. Creating Muscle-driven Simulations with OpenSim Moco"
      ]
    },
    {
      "cell_type": "markdown",
      "metadata": {
        "id": "ZZClpIjbitD4"
      },
      "source": [
        "\n",
        "## 3.1. Objectives"
      ]
    },
    {
      "cell_type": "markdown",
      "metadata": {
        "id": "AKANMMa6iycq"
      },
      "source": [
        "[OpenSim Moco](https://opensim-org.github.io/opensim-moco-site/) is a software package for creating musculoskeletal simulations using trajectory optimization [[1]](https://doi.org/10.1371/journal.pcbi.1008493). Users define problems by providing an OpenSim model, cost function terms, and additional problem constraints via an easy-to-use scripting interface. Moco employs the state-of-the-art direct collocation method to rapidly solve trajectory optimization problems.\n",
        "\n",
        "**Purpose**\n",
        "\n",
        "The purpose of this tutorial is to introduce users to Moco via the [Conda OpenSim](https://anaconda.org/opensim-org/opensim) and [Jupyter notebooks](https://jupyter.org/). In this tutorial you will:\n",
        "\n",
        "*   Solve a standalone \"sliding mass\" problem with OpenSim Moco.\n",
        "*   Visualize the position of the pendulum using [matplotlib](https://matplotlib.org/)."
      ]
    },
    {
      "cell_type": "markdown",
      "metadata": {
        "id": "kPnGlZIT8oiM"
      },
      "source": [
        "## 3.2. Set up Conda and OpenSim"
      ]
    },
    {
      "cell_type": "markdown",
      "metadata": {
        "id": "3kxYrs4Hi6Nl"
      },
      "source": [
        "In the following cell, you will use [condacolab](https://github.com/conda-incubator/condacolab) to install [Miniconda](https://docs.conda.io/en/latest/miniconda.html). If you want to install a different conda distribution (e.g., Anaconda, Mambaforge) check [condacolab's documentation](https://github.com/conda-incubator/condacolab#usage)."
      ]
    },
    {
      "cell_type": "code",
      "execution_count": null,
      "metadata": {
        "colab": {
          "base_uri": "https://localhost:8080/"
        },
        "id": "5-sX9L3f6Asq",
        "outputId": "07c714c8-7744-4bf4-fa0f-f1c66d2fcec9"
      },
      "outputs": [],
      "source": [
        "!pip install -q condacolab\n",
        "import condacolab\n",
        "condacolab.install()"
      ]
    },
    {
      "cell_type": "markdown",
      "metadata": {
        "id": "LdmpfqC8Dt0x"
      },
      "source": [
        "Don't worry if after executing the previous cell you get an error saying that your session has failed. The reason for this is that condacolab needs to restart the session for the changes to take effect. Because of this, you have to execute the previous cell first, before executing any other cell.\n",
        "\n",
        "Now, execute the following cell to install the OpenSim conda package using conda."
      ]
    },
    {
      "cell_type": "code",
      "execution_count": null,
      "metadata": {
        "colab": {
          "base_uri": "https://localhost:8080/"
        },
        "id": "H9WE2h3fD61J",
        "outputId": "2795df96-b021-40eb-ba47-39a105cc2ac6"
      },
      "outputs": [],
      "source": [
        "!conda install opensim_admin::opensim-moco"
      ]
    },
    {
      "cell_type": "markdown",
      "metadata": {
        "id": "hj5Y1HCXEb_M"
      },
      "source": [
        "## 3.3. Solve the \"sliding mass\" problem\n"
      ]
    },
    {
      "cell_type": "markdown",
      "metadata": {
        "id": "BV3ofVUoEkEi"
      },
      "source": [
        "The following cell imports the OpenSim module and, if successful, shows the current version and build date (**should be 4.5**)."
      ]
    },
    {
      "cell_type": "code",
      "execution_count": 7,
      "metadata": {
        "colab": {
          "base_uri": "https://localhost:8080/",
          "height": 36
        },
        "id": "H4vWQbmhEjVr",
        "outputId": "ab06f633-2050-423e-e64d-24b30b2d6c4e"
      },
      "outputs": [
        {
          "data": {
            "text/plain": [
              "'version 4.5-2023-11-26-efcdfd3eb, build date 23:19:12 Nov 28 2023'"
            ]
          },
          "execution_count": 7,
          "metadata": {},
          "output_type": "execute_result"
        }
      ],
      "source": [
        "import os\n",
        "import opensim as osim\n",
        "osim.GetVersionAndDate()"
      ]
    },
    {
      "cell_type": "code",
      "execution_count": 3,
      "metadata": {
        "id": "uCT1o9zzF-Nn"
      },
      "outputs": [],
      "source": [
        "model = osim.Model()\n",
        "model.setName('sliding_mass')\n",
        "model.set_gravity(osim.Vec3(0, 0, 0))\n",
        "body = osim.Body('body', 2.0, osim.Vec3(0), osim.Inertia(0))\n",
        "model.addComponent(body)\n",
        "\n",
        "# Allows translation along x.\n",
        "joint = osim.SliderJoint('slider', model.getGround(), body)\n",
        "coord = joint.updCoordinate()\n",
        "coord.setName('position')\n",
        "model.addComponent(joint)\n",
        "\n",
        "actu = osim.CoordinateActuator()\n",
        "actu.setCoordinate(coord)\n",
        "actu.setName('actuator')\n",
        "actu.setOptimalForce(1)\n",
        "model.addComponent(actu)\n",
        "\n",
        "body.attachGeometry(osim.Sphere(0.05))\n",
        "\n",
        "model.finalizeConnections()\n",
        "\n",
        "# Create MocoStudy.\n",
        "# ================\n",
        "study = osim.MocoStudy()\n",
        "study.setName('sliding_mass')\n",
        "\n",
        "# Define the optimal control problem.\n",
        "# ===================================\n",
        "problem = study.updProblem()\n",
        "\n",
        "# Model (dynamics).\n",
        "# -----------------\n",
        "problem.setModel(model)\n",
        "\n",
        "# Bounds.\n",
        "# -------\n",
        "# Initial time must be 0, final time can be within [0, 5].\n",
        "problem.setTimeBounds(osim.MocoInitialBounds(0.), osim.MocoFinalBounds(0., 5.))\n",
        "\n",
        "# Position must be within [-5, 5] throughout the motion.\n",
        "# Initial position must be 0, final position must be 1.\n",
        "problem.setStateInfo('/slider/position/value', osim.MocoBounds(-5, 5),\n",
        "                     osim.MocoInitialBounds(0), osim.MocoFinalBounds(1))\n",
        "# Speed must be within [-50, 50] throughout the motion.\n",
        "# Initial and final speed must be 0. Use compact syntax.\n",
        "problem.setStateInfo('/slider/position/speed', [-50, 50], [0], [0])\n",
        "\n",
        "# Applied force must be between -50 and 50.\n",
        "problem.setControlInfo('/actuator', osim.MocoBounds(-50, 50))\n",
        "\n",
        "# Cost.\n",
        "# -----\n",
        "problem.addGoal(osim.MocoFinalTimeGoal())\n",
        "\n",
        "# Configure the solver.\n",
        "# =====================\n",
        "solver = study.initCasADiSolver()\n",
        "solver.set_num_mesh_intervals(100)\n",
        "\n",
        "# Now that we've finished setting up the study, print it to a file.\n",
        "study.printToXML('sliding_mass.omoco')\n",
        "\n",
        "# Solve the problem.\n",
        "# ==================\n",
        "solution = study.solve()\n",
        "\n",
        "solution.write('sliding_mass_solution.sto')\n",
        "\n",
        "## TODO visualize the solution"
      ]
    },
    {
      "cell_type": "markdown",
      "metadata": {
        "id": "bMYcGGuaetwS"
      },
      "source": [
        "You should now have a sliding_mass_solution.sto in your files."
      ]
    },
    {
      "cell_type": "markdown",
      "metadata": {},
      "source": [
        "## 3.3. Fit function-based paths for the \"squat-to-stand\" model "
      ]
    },
    {
      "cell_type": "markdown",
      "metadata": {},
      "source": [
        "Use forward integration to create a random trajectory that we can use as a reference when fitting polynomial functions to represent muscle lengths. "
      ]
    },
    {
      "cell_type": "code",
      "execution_count": 4,
      "metadata": {},
      "outputs": [],
      "source": [
        "model = osim.Model('squatToStand_3dof9musc.osim')\n",
        "state = model.initSystem()\n",
        "manager = osim.Manager(model, state)\n",
        "manager.integrate(2.0)\n",
        "table = manager.getStatesTable()\n",
        "sto = osim.STOFileAdapter()\n",
        "sto.write(table, 'reference_states.sto')"
      ]
    },
    {
      "cell_type": "markdown",
      "metadata": {},
      "source": [
        "Now use `PolynomialPathFitter` to randomly sample coordinate values around the reference trajectory. First,muscle lengths and moment arms will be computed from the sampled coordinate values. Coefficients for multivariate polynomial functions representing the muscle lengths are determined using a least-squares fit. Both the muscle lengths and the moment arms (via the polynomial derivatives) are included in the fitting process. "
      ]
    },
    {
      "cell_type": "code",
      "execution_count": 6,
      "metadata": {},
      "outputs": [],
      "source": [
        "fitter = osim.PolynomialPathFitter()\n",
        "fitter.setModel(osim.ModelProcessor(model))\n",
        "times = table.getIndependentColumn()\n",
        "# TODO avoid this with the latest OpenSim API.\n",
        "for i in reversed(range(len(times))):\n",
        "    table.setIndependentValueAtIndex(i, i)\n",
        "for i in range(len(times)):\n",
        "    if i % 5 != 0:\n",
        "        table.removeRow(i)\n",
        "fitter.setCoordinateValues(osim.TableProcessor(table))\n",
        "fitter.setMaximumPolynomialOrder(5)\n",
        "fitter.setNumSamplesPerFrame(15)\n",
        "fitter.setGlobalCoordinateSamplingBounds(osim.Vec2(-50, 50))\n",
        "# TODO include this when the API is updated.\n",
        "# fitter.setUseStepwiseRegression(True)\n",
        "fitter.setPathLengthTolerance(1e-3)\n",
        "fitter.setMomentArmTolerance(1e-3)\n",
        "fitter.setOutputDirectory('path_fitting')\n",
        "fitter.run()"
      ]
    },
    {
      "cell_type": "markdown",
      "metadata": {},
      "source": [
        "Now, plot the results."
      ]
    },
    {
      "cell_type": "code",
      "execution_count": 19,
      "metadata": {},
      "outputs": [
        {
          "name": "stdout",
          "output_type": "stream",
          "text": [
            "('/forceset/bifemsh_r_length', '/forceset/med_gas_r_length', '/forceset/glut_max2_r_length', '/forceset/psoas_r_length', '/forceset/rect_fem_r_length', '/forceset/semimem_r_length', '/forceset/soleus_r_length', '/forceset/tib_ant_r_length', '/forceset/vas_int_r_length')\n"
          ]
        },
        {
          "data": {
            "image/png": "[encoded data removed]",
            "text/plain": [
              "<Figure size 600x400 with 2 Axes>"
            ]
          },
          "metadata": {},
          "output_type": "display_data"
        }
      ],
      "source": [
        "import numpy as np\n",
        "from matplotlib import pyplot as plt\n",
        "\n",
        "lengths = osim.TimeSeriesTable(\n",
        "    os.path.join('path_fitting', 'squatToStand_path_lengths.sto'))\n",
        "print(lengths.getColumnLabels())\n",
        "\n",
        "lengthsFitted = osim.TimeSeriesTable(\n",
        "    os.path.join('path_fitting', 'squatToStand_path_lengths_fitted.sto'))\n",
        "\n",
        "fig, axs = plt.subplots(1, 2, figsize=(6, 4))\n",
        "\n",
        "times = lengths.getIndependentColumn()\n",
        "axs[0].plot(times,\n",
        "    lengths.getDependentColumn('/forceset/rect_fem_r_length').to_numpy(),\n",
        "    lw=3, color='blue')\n",
        "axs[0].set_xlim(times[0], times[-1])\n",
        "axs[0].set_title('rec. fem. length', fontsize=6)\n",
        "\n",
        "times = lengthsFitted.getIndependentColumn()\n",
        "axs[0].plot(times,\n",
        "    lengthsFitted.getDependentColumn('/forceset/rect_fem_r_length').to_numpy(),\n",
        "    lw=3, color='orange')\n",
        "axs[0].set_xlim(times[0], times[-1])\n",
        "axs[0].set_title('rec. fem. length', fontsize=6)\n",
        "\n",
        "fig.tight_layout()\n",
        "plt.show()"
      ]
    },
    {
      "cell_type": "code",
      "execution_count": 8,
      "metadata": {},
      "outputs": [
        {
          "data": {
            "text/plain": [
              "<opensim.actuators.ModelProcessor; proxy of <Swig Object of type 'OpenSim::ModelProcessor *' at 0x000001C628ACE7C0> >"
            ]
          },
          "execution_count": 8,
          "metadata": {},
          "output_type": "execute_result"
        }
      ],
      "source": [
        "modelProcessor = osim.ModelProcessor('squatToStand_3dof9musc.osim')\n",
        "modelProcessor.append(osim.ModOpReplaceMusclesWithDeGrooteFregly2016())\n",
        "modelProcessor.append(osim.ModOpIgnorePassiveFiberForcesDGF())\n",
        "modelProcessor.append(osim.ModOpScaleMaxIsometricForce(2.0))\n",
        "modelProcessor.append(osim.ModOpScaleActiveFiberForceCurveWidthDGF(1.5))\n",
        "modelProcessor.append(osim.ModOpReplacePathsWithFunctionBasedPaths(\n",
        "    os.path.join('path_fitting', 'squatToStand_FunctionBasedPathSet.xml')))"
      ]
    },
    {
      "cell_type": "markdown",
      "metadata": {
        "id": "J5mhS9zNX9ff"
      },
      "source": [
        "## 3.X. Conclusion"
      ]
    },
    {
      "cell_type": "markdown",
      "metadata": {
        "id": "_M04jPJLuiUz"
      },
      "source": [
        "In this tutorial you used [condacolab](https://github.com/conda-incubator/condacolab) to install [Miniconda](https://docs.conda.io/en/latest/miniconda.html) in [Google Colab](https://colab.research.google.com/?hl=en). Then, you  installed Conda [OpenSim](https://opensim.stanford.edu/) in the Miniconda environment, and you tested it by creating and simulating a simple pendulum and simulating. Finally, you plotted the positions of the pendulum using [matplotlib](https://matplotlib.org/)."
      ]
    },
    {
      "cell_type": "markdown",
      "metadata": {
        "id": "lLWgd8Noun6Y"
      },
      "source": [
        "## 3.X. Useful Links\n",
        "\n",
        "\n",
        "\n"
      ]
    },
    {
      "cell_type": "markdown",
      "metadata": {
        "id": "m8M3dlT5xQcD"
      },
      "source": [
        "> **OpenSim Website:** https://opensim.stanford.edu/\n",
        ">\n",
        "> **OpenSim API Documentation:** https://simtk.org/api_docs/opensim/api_docs/\n",
        ">\n",
        "> **OpenSim Creator Website:** https://opensimcreator.com/\n",
        ">\n",
        "> **SimTK Website:** https://simtk.org/projects/opensim\n",
        ">\n",
        "> **Biomechanics of Movement Course Videos:** https://www.youtube.com/channel/UCDNGy0KKNLQ-ztcL5h2Z6zA"
      ]
    },
    {
      "cell_type": "markdown",
      "metadata": {
        "id": "rFR2Rf9tk_9A"
      },
      "source": [
        "## 3.X Acknowledgments\n",
        "\n",
        "Thanks to [OpenSimColab](https://simtk.org/projects/opencolab) project [[2]](https://doi.org/10.1080/10255842.2022.2104607) for creating the first OpenSim Conda package."
      ]
    },
    {
      "cell_type": "markdown",
      "metadata": {
        "id": "dxMjdukAnH2N"
      },
      "source": [
        "## 3.X. References\n",
        "\n",
        "\n"
      ]
    },
    {
      "cell_type": "markdown",
      "metadata": {
        "id": "WX2A_iaYulV1"
      },
      "source": [
        "> [1] Dembia CL, Bianco NA, Falisse A, Hicks JL, Delp SL (2020) OpenSim Moco: Musculoskeletal optimal control. PLOS Computational Biology 16(12): e1008493. https://doi.org/10.1371/journal.pcbi.1008493\n",
        ">\n",
        "> [2] Mokhtarzadeh, H., Jiang, F., Zhao, S., & Malekipour, F. (2022). **OpenColab project: OpenSim in Google colaboratory to explore biomechanics on the web.** *Computer Methods in Biomechanics and Biomedical Engineering*, 1–9. https://doi.org/10.1080/10255842.2022.2104607"
      ]
    }
  ],
  "metadata": {
    "colab": {
      "provenance": []
    },
    "kernelspec": {
      "display_name": "Python 3",
      "name": "python3"
    },
    "language_info": {
      "codemirror_mode": {
        "name": "ipython",
        "version": 3
      },
      "file_extension": ".py",
      "mimetype": "text/x-python",
      "name": "python",
      "nbconvert_exporter": "python",
      "pygments_lexer": "ipython3",
      "version": "3.11.9"
    }
  },
  "nbformat": 4,
  "nbformat_minor": 0
}
