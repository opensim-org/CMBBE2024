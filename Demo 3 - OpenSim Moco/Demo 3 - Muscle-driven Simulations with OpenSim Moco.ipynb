{
  "cells": [
    {
      "cell_type": "markdown",
      "metadata": {
        "id": "YS-0eq5Y6BjU"
      },
      "source": [
        "# 3. Muscle-driven Simulations with OpenSim Moco"
      ]
    },
    {
      "cell_type": "markdown",
      "metadata": {
        "id": "ZZClpIjbitD4"
      },
      "source": [
        "\n",
        "## 3.1. Objectives"
      ]
    },
    {
      "cell_type": "markdown",
      "metadata": {
        "id": "AKANMMa6iycq"
      },
      "source": [
        "**Introduction to OpenSim Moco**\n",
        "\n",
        "[OpenSim Moco](https://opensim-org.github.io/opensim-moco-site/) is an open-source software that allows users to develop, analyze, and visualize models of the musculoskeletal system, and to generate dynamic simulations of movement [[1]](https://doi.org/10.1109/TBME.2007.901024). \n",
        "\n",
        "**Purpose**\n",
        "\n",
        "The purpose of this tutorial is to introduce users to the [Conda OpenSim](https://anaconda.org/opensim-org/opensim) package, that allows the use of the library in [Jupyter notebooks](https://jupyter.org/). In this tutorial you will:\n",
        "\n",
        "*   Learn to set up OpenSim in a Jupyter environment ([Google Colab](https://colab.research.google.com/?hl=en)).\n",
        "*   Create a simple pendulum in OpenSim.\n",
        "*   Visualize the position of the pendulum using [matplotlib](https://matplotlib.org/).\n",
        "\n",
        "**Format**\n",
        "\n",
        "This tutorial guides you through the setup of Conda OpenSim in Google Colab. Then, to test if OpenSim Colab installed correctly, you will create a simple pendulum, simulate it, and visualize its position. As you complete each section of the tutorial, feel free to explore Conda Opensim and modify the code blocks of the tutorial on your own."
      ]
    },
    {
      "cell_type": "markdown",
      "metadata": {
        "id": "kPnGlZIT8oiM"
      },
      "source": [
        "## 1.2. Set up Conda and OpenSim"
      ]
    },
    {
      "cell_type": "markdown",
      "metadata": {
        "id": "3kxYrs4Hi6Nl"
      },
      "source": [
        "In the following cell, you will use [condacolab](https://github.com/conda-incubator/condacolab) to install [Miniconda](https://docs.conda.io/en/latest/miniconda.html). If you want to install a different conda distribution (e.g., Anaconda, Mambaforge) check [condacolab's documentation](https://github.com/conda-incubator/condacolab#usage)."
      ]
    },
    {
      "cell_type": "code",
      "execution_count": null,
      "metadata": {
        "colab": {
          "base_uri": "https://localhost:8080/"
        },
        "id": "5-sX9L3f6Asq",
        "outputId": "07c714c8-7744-4bf4-fa0f-f1c66d2fcec9"
      },
      "outputs": [],
      "source": [
        "!pip install -q condacolab\n",
        "import condacolab\n",
        "condacolab.install()"
      ]
    },
    {
      "cell_type": "markdown",
      "metadata": {
        "id": "LdmpfqC8Dt0x"
      },
      "source": [
        "Don't worry if after executing the previous cell you get an error saying that your session has failed. The reason for this is that condacolab needs to restart the session for the changes to take effect. Because of this, you have to execute the previous cell first, before executing any other cell.\n",
        "\n",
        "Now, execute the following cell to install the OpenSim conda package using conda."
      ]
    },
    {
      "cell_type": "code",
      "execution_count": null,
      "metadata": {
        "colab": {
          "base_uri": "https://localhost:8080/"
        },
        "id": "H9WE2h3fD61J",
        "outputId": "2795df96-b021-40eb-ba47-39a105cc2ac6"
      },
      "outputs": [],
      "source": [
        "!conda install opensim_admin::opensim-moco"
      ]
    },
    {
      "cell_type": "markdown",
      "metadata": {
        "id": "hj5Y1HCXEb_M"
      },
      "source": [
        "## 1.3. Using OpenSim Moco to Solve Sliding Mass Problem with Casadi Solver\n"
      ]
    },
    {
      "cell_type": "markdown",
      "metadata": {
        "id": "1W4hVOJvEmc5"
      },
      "source": []
    },
    {
      "cell_type": "markdown",
      "metadata": {
        "id": "BV3ofVUoEkEi"
      },
      "source": [
        "The following cell imports the OpenSim module and, if successful, shows the current version and build date (**should be 4.5**)."
      ]
    },
    {
      "cell_type": "code",
      "execution_count": null,
      "metadata": {
        "colab": {
          "base_uri": "https://localhost:8080/",
          "height": 36
        },
        "id": "H4vWQbmhEjVr",
        "outputId": "ab06f633-2050-423e-e64d-24b30b2d6c4e"
      },
      "outputs": [],
      "source": [
        "import opensim as osim\n",
        "osim.GetVersionAndDate()"
      ]
    },
    {
      "cell_type": "code",
      "execution_count": null,
      "metadata": {
        "id": "uCT1o9zzF-Nn"
      },
      "outputs": [],
      "source": [
        "model = osim.Model()\n",
        "model.setName('sliding_mass')\n",
        "model.set_gravity(osim.Vec3(0, 0, 0))\n",
        "body = osim.Body('body', 2.0, osim.Vec3(0), osim.Inertia(0))\n",
        "model.addComponent(body)\n",
        "\n",
        "# Allows translation along x.\n",
        "joint = osim.SliderJoint('slider', model.getGround(), body)\n",
        "coord = joint.updCoordinate()\n",
        "coord.setName('position')\n",
        "model.addComponent(joint)\n",
        "\n",
        "actu = osim.CoordinateActuator()\n",
        "actu.setCoordinate(coord)\n",
        "actu.setName('actuator')\n",
        "actu.setOptimalForce(1)\n",
        "model.addComponent(actu)\n",
        "\n",
        "body.attachGeometry(osim.Sphere(0.05))\n",
        "\n",
        "model.finalizeConnections()\n",
        "\n",
        "# Create MocoStudy.\n",
        "# ================\n",
        "study = osim.MocoStudy()\n",
        "study.setName('sliding_mass')\n",
        "\n",
        "# Define the optimal control problem.\n",
        "# ===================================\n",
        "problem = study.updProblem()\n",
        "\n",
        "# Model (dynamics).\n",
        "# -----------------\n",
        "problem.setModel(model)\n",
        "\n",
        "# Bounds.\n",
        "# -------\n",
        "# Initial time must be 0, final time can be within [0, 5].\n",
        "problem.setTimeBounds(osim.MocoInitialBounds(0.), osim.MocoFinalBounds(0., 5.))\n",
        "\n",
        "# Position must be within [-5, 5] throughout the motion.\n",
        "# Initial position must be 0, final position must be 1.\n",
        "problem.setStateInfo('/slider/position/value', osim.MocoBounds(-5, 5),\n",
        "                     osim.MocoInitialBounds(0), osim.MocoFinalBounds(1))\n",
        "# Speed must be within [-50, 50] throughout the motion.\n",
        "# Initial and final speed must be 0. Use compact syntax.\n",
        "problem.setStateInfo('/slider/position/speed', [-50, 50], [0], [0])\n",
        "\n",
        "# Applied force must be between -50 and 50.\n",
        "problem.setControlInfo('/actuator', osim.MocoBounds(-50, 50))\n",
        "\n",
        "# Cost.\n",
        "# -----\n",
        "problem.addGoal(osim.MocoFinalTimeGoal())\n",
        "\n",
        "# Configure the solver.\n",
        "# =====================\n",
        "solver = study.initCasADiSolver()\n",
        "solver.set_num_mesh_intervals(100)\n",
        "\n",
        "# Now that we've finished setting up the study, print it to a file.\n",
        "study.printToXML('sliding_mass.omoco')\n",
        "\n",
        "# Solve the problem.\n",
        "# ==================\n",
        "solution = study.solve()\n",
        "\n",
        "solution.write('sliding_mass_solution.sto')\n",
        "\n"
      ]
    },
    {
      "cell_type": "markdown",
      "metadata": {
        "id": "bMYcGGuaetwS"
      },
      "source": [
        "You should now have a sliding_mass_solution.sto in your files."
      ]
    },
    {
      "cell_type": "markdown",
      "metadata": {
        "id": "J5mhS9zNX9ff"
      },
      "source": [
        "## 1.4. Conclusion"
      ]
    },
    {
      "cell_type": "markdown",
      "metadata": {
        "id": "_M04jPJLuiUz"
      },
      "source": [
        "In this tutorial you used [condacolab](https://github.com/conda-incubator/condacolab) to install [Miniconda](https://docs.conda.io/en/latest/miniconda.html) in [Google Colab](https://colab.research.google.com/?hl=en). Then, you  installed Conda [OpenSim](https://opensim.stanford.edu/) in the Miniconda environment, and you tested it by creating and simulating a simple pendulum and simulating. Finally, you plotted the positions of the pendulum using [matplotlib](https://matplotlib.org/)."
      ]
    },
    {
      "cell_type": "markdown",
      "metadata": {
        "id": "lLWgd8Noun6Y"
      },
      "source": [
        "## 1.5. Useful Links\n",
        "\n",
        "\n",
        "\n"
      ]
    },
    {
      "cell_type": "markdown",
      "metadata": {
        "id": "m8M3dlT5xQcD"
      },
      "source": [
        "> **OpenSim Website:** https://opensim.stanford.edu/\n",
        ">\n",
        "> **OpenSim API Documentation:** https://simtk.org/api_docs/opensim/api_docs/\n",
        ">\n",
        "> **OpenSim Creator Website:** https://opensimcreator.com/\n",
        ">\n",
        "> **SimTK Website:** https://simtk.org/projects/opensim\n",
        ">\n",
        "> **Biomechanics of Movement Course Videos:** https://www.youtube.com/channel/UCDNGy0KKNLQ-ztcL5h2Z6zA"
      ]
    },
    {
      "cell_type": "markdown",
      "metadata": {
        "id": "rFR2Rf9tk_9A"
      },
      "source": [
        "##1.6 Acknowledgments\n",
        "\n",
        "Thanks to [OpenSimColab](https://simtk.org/projects/opencolab) project [[2]](https://doi.org/10.1080/10255842.2022.2104607) for creating the first OpenSim Conda package."
      ]
    },
    {
      "cell_type": "markdown",
      "metadata": {
        "id": "dxMjdukAnH2N"
      },
      "source": [
        "## 1.7. References\n",
        "\n",
        "\n"
      ]
    },
    {
      "cell_type": "markdown",
      "metadata": {
        "id": "WX2A_iaYulV1"
      },
      "source": [
        "> [1] Delp, S. L., Anderson, F. C., Arnold, A. S., Loan, P., Habib, A., John, C. T., Guendelman, E., & Thelen, D. G. (2007). **OpenSim: open-source software to create and analyze dynamic simulations of movement.** *IEEE Transactions on Bio-Medical Engineering*, 54(11), 1940–1950. https://doi.org/10.1109/TBME.2007.901024\n",
        ">\n",
        "> [2] Mokhtarzadeh, H., Jiang, F., Zhao, S., & Malekipour, F. (2022). **OpenColab project: OpenSim in Google colaboratory to explore biomechanics on the web.** *Computer Methods in Biomechanics and Biomedical Engineering*, 1–9. https://doi.org/10.1080/10255842.2022.2104607"
      ]
    }
  ],
  "metadata": {
    "colab": {
      "provenance": []
    },
    "kernelspec": {
      "display_name": "Python 3",
      "name": "python3"
    },
    "language_info": {
      "codemirror_mode": {
        "name": "ipython",
        "version": 3
      },
      "file_extension": ".py",
      "mimetype": "text/x-python",
      "name": "python",
      "nbconvert_exporter": "python",
      "pygments_lexer": "ipython3",
      "version": "3.11.9"
    }
  },
  "nbformat": 4,
  "nbformat_minor": 0
}
