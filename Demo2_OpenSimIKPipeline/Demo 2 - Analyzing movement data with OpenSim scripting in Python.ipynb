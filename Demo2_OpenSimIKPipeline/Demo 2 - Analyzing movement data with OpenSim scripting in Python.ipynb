{
  "cells": [
    {
      "cell_type": "markdown",
      "metadata": {
        "colab_type": "text",
        "id": "view-in-github"
      },
      "source": [
        "<a href=\"https://colab.research.google.com/github/opensim-org/CMBBE2024/blob/main/Demo2_OpenSimIKPipeline/Demo%202%20-%20Preview%2C%20Inverse%20Kinematics%20and%20Analysis.ipynb\" target=\"_parent\"><img src=\"https://colab.research.google.com/assets/colab-badge.svg\" alt=\"Open In Colab\"/></a>"
      ]
    },
    {
      "cell_type": "markdown",
      "metadata": {
        "id": "EhobipLVJg7S"
      },
      "source": [
        "# 2. Analyzing movement data with OpenSim scripting in Python\n"
      ]
    },
    {
      "cell_type": "markdown",
      "metadata": {
        "id": "SwX6QwGU0Jwj"
      },
      "source": [
        "## 2.1. Objectives"
      ]
    },
    {
      "cell_type": "markdown",
      "metadata": {
        "id": "4p_3qlB60Np3"
      },
      "source": [
        "**Purpose**\n",
        "\n",
        "The purpose of this tutorial is to demonstrate how [OpenSim](https://opensim.stanford.edu/) [[1]](https://doi.org/10.1109/TBME.2007.901024) can be used to preview Mocap data, and then solve Inverse Kinematics (IK) using experimental data, then use OpenSim analysis tools to compute/plot a quantity of interest from the IK solution.\n",
        "\n",
        "To diagnose movement disorders and study human movement, biomechanists frequently ask human subjects to perform movements in a motion capture laboratory and use computational tools to analyze these movements. A common step in analyzing a movement is to compute the joint angles of the subject during movement. OpenSim has tools for computing these quantities:\n",
        "\n",
        "*   **Inverse Kinematics (IK)** is used to compute joint angles.\n",
        "*   **Analyze Tool** is used to compute quantity of interest"
      ]
    },
    {
      "cell_type": "markdown",
      "metadata": {
        "id": "6PpwC4C9HO1M"
      },
      "source": [
        "\n",
        "Inverse Kinematics computes the joint angles for a musculoskeletal model that best reproduce the motion of a subject.\n",
        "In this tutorial, you will:\n",
        "\n",
        "*   Become familiar with OpenSim's tools to visualize models, motions and data.\n",
        "*   Solve an Inverse Kinematics problem using experimental data.\n",
        "*   Evaluate/Plot a quantity of interest based on the Inverse Kinematics solution.\n",
        "\n",
        "**Format**\n",
        "\n",
        "Each section of the tutorial guides you through certain tools within OpenSim and asks you to answer a few questions. The questions can be answered based on information from OpenSim and basic knowledge of the human musculoskeletal system. As you complete each section of the tutorial, feel free to explore OpenSim and the provided model further on your own."
      ]
    },
    {
      "cell_type": "markdown",
      "metadata": {
        "id": "ADllcxbsjTr8"
      },
      "source": [
        "## 2.2. Set up Conda and OpenSim"
      ]
    },
    {
      "cell_type": "markdown",
      "metadata": {
        "id": "mmmTuEI4HQJG"
      },
      "source": [
        "First, set up the environment by executing the following cell (See [Tutorial 1: Introduction to OpenSim in Colab](https://drive.google.com/file/d/1P_2IRJFzdodS1-ce4BsOsC9d8xWXCqXS/view?usp=sharing) for more information)."
      ]
    },
    {
      "cell_type": "code",
      "execution_count": null,
      "metadata": {
        "id": "0w9LYQXx5TO4"
      },
      "outputs": [],
      "source": [
        "!pip install -q condacolab\n",
        "import condacolab\n",
        "condacolab.install()"
      ]
    },
    {
      "cell_type": "markdown",
      "metadata": {
        "id": "vt5loGbdfKb8"
      },
      "source": [
        "Don't worry if after executing the previous cell you get an error saying that your session has failed. The reason for this is that condacolab needs to restart the session for the changes to take effect. Because of this, you have to execute the previous cell first, before executing any other cell."
      ]
    },
    {
      "cell_type": "markdown",
      "metadata": {
        "id": "cNHGuMza5TO4"
      },
      "source": [
        "Now, let's install the OpenSim conda package."
      ]
    },
    {
      "cell_type": "code",
      "execution_count": null,
      "metadata": {
        "id": "vWf9ObZJ5TO5"
      },
      "outputs": [],
      "source": [
        "!conda install opensim_admin::opensim-moco"
      ]
    },
    {
      "cell_type": "markdown",
      "metadata": {
        "id": "51viyamRzzZK"
      },
      "source": [
        "## 2.3. Preview Mocap Data"
      ]
    },
    {
      "cell_type": "markdown",
      "metadata": {
        "id": "Z9iDkg-QVVhm"
      },
      "source": [
        "In this tutorial, you will be using an OpenSim musculoskeletal model, and mocap data provided by OpenCap, but first we install the python code/packages needed for visualization."
      ]
    },
    {
      "cell_type": "code",
      "execution_count": null,
      "metadata": {
        "id": "06V_a98pyhGx"
      },
      "outputs": [],
      "source": [
        "!pip install pygltflib\n",
        "!conda install -c conda-forge vtk\n",
        "\n",
        "# Mount OpenSim Viewer code base.\n",
        "!git clone https://github.com/opensim-org/opensim-viewer-backend.git\n",
        "\n",
        "# Import the viewport module.\n",
        "import sys\n",
        "sys.path.append('opensim-viewer-backend')\n",
        "import osimViewport"
      ]
    },
    {
      "cell_type": "markdown",
      "metadata": {
        "id": "-0nVeiJAXruu"
      },
      "source": [
        "The visualization works by converting OpenSim's supported files into a standard format (Graphics Library Transmission Format or .gltf) that's used by the viewer and is universally viewable by other publicly available tools (e.g. Blender, 3D Viewer on windows and other third party tools)"
      ]
    },
    {
      "cell_type": "markdown",
      "metadata": {
        "id": "TIQp3TtGYMyQ"
      },
      "source": [
        "**Download Files**\n",
        "\n",
        "First, let's download the mocap data file (`Squat.trc`). The file is stored in a Google Drive folder for convenience."
      ]
    },
    {
      "cell_type": "code",
      "execution_count": null,
      "metadata": {
        "id": "EAb6JtzeYObU"
      },
      "outputs": [],
      "source": [
        "!gdown \"1JSfS-Kzl6i52wdl24svXq0Dt34f6H-yF&confirm=t\""
      ]
    },
    {
      "cell_type": "markdown",
      "metadata": {
        "id": "bjlOR8fym2Pl"
      },
      "source": [
        "To preview the data, we'll pull in a python module to visualize OpenSim supported files"
      ]
    },
    {
      "cell_type": "code",
      "execution_count": null,
      "metadata": {
        "id": "oGTQE8Azh6p8"
      },
      "outputs": [],
      "source": [
        "ovp = osimViewport.osimViewport()\n",
        "ovp.addDataFile('/content/Squat.trc')\n",
        "ovp.show() # this line generates a file Squat.gltf under the files panel"
      ]
    },
    {
      "cell_type": "markdown",
      "metadata": {
        "id": "-ooHO9m13zen"
      },
      "source": [
        "Download the generated file locally, then drag and drop into the viewer below\n"
      ]
    },
    {
      "cell_type": "code",
      "execution_count": null,
      "metadata": {
        "id": "Cuk2uza7yhGz"
      },
      "outputs": [],
      "source": [
        "# @title Download the generated GLTF file to your computer { display-mode: \"form\" }\n",
        "# @markdown After executing this cell, a button will appear to download the generated GLTF file to your computer.\n",
        "\n",
        "import ipywidgets as widgets\n",
        "from IPython.display import display\n",
        "from google.colab import files\n",
        "layout = widgets.Layout(width='250px')\n",
        "button = widgets.Button(description=\"Download the GLTF file!\", layout=layout)\n",
        "output = widgets.Output()\n",
        "\n",
        "def on_button_clicked(b):\n",
        "  # Display the message within the output widget.\n",
        "  with output:\n",
        "    files.download('/content/Squat.gltf')\n",
        "\n",
        "button.on_click(on_button_clicked)\n",
        "display(button, output)"
      ]
    },
    {
      "cell_type": "code",
      "execution_count": null,
      "metadata": {
        "id": "gy5Xz1ftJx8s"
      },
      "outputs": [],
      "source": [
        "# @title Execute this cell to include the OpenSim Viewer { display-mode: \"form\" }\n",
        "# @markdown Open the downloaded GLTF file from the Opensim Viewer to visualize.\n",
        "\n",
        "from IPython.display import IFrame\n",
        "\n",
        "IFrame('https://dev.d7iaa9a9lxtm6.amplifyapp.com/?css=gui', width=600, height=300)"
      ]
    },
    {
      "cell_type": "markdown",
      "metadata": {
        "id": "ad2kW88oKPaw"
      },
      "source": [
        "## 2.4. Inverse Kinematics"
      ]
    },
    {
      "cell_type": "markdown",
      "metadata": {
        "id": "sXZXzssqVmUN"
      },
      "source": [
        "Kinematics is the study of motion without considering the forces and moments that produce that motion [[4]](https://onlinelibrary.wiley.com/doi/book/10.1002/9780470549148). The purpose of inverse kinematics (IK) is to estimate the joint angles of a particular subject from experimental data. In this section, you will estimate a subject's joint angles during walking by performing an IK analysis using the subject scaled model and experimentally collected walking data.\n",
        "\n",
        "For each time step of recorded motion data, IK computes a set of joint angles that put the model in a configuration that \"best matches\" the experimental kinematics. OpenSim determines this \"best match\" by solving a weighted least squares optimization problem with the goal of minimizing marker error. Marker error is defined as the distance between an experimental marker and the corresponding model marker. Each marker has an associated weighting value, specifying how strongly that marker's error term should be minimized in the least squares problem. For each time step, the inverse kinematics tool solves for a vector of generalized coordinates (e.g., joint angles), $q$, that minimizes the weighted sum of marker errors, which is expressed as:\n",
        "\n",
        "$\\underset{q}{\\text{min}}\\Bigg[ \\sum_{i \\in \\text{markers}}{w_i || x_i^{\\text{exp}} - x_i(q) ||^2}^{}\\Bigg] $\n",
        "\n",
        "where $q$ is the vector of generalized coordinates (e.g., joint angles), $x_i^{\\text{exp}}$ is the position of the experimental marker $i$, $x_i(q)$ is the position of the corresponding model marker $i$ (which depends on $q$), and $w_i$ is the weight associated with marker $i$."
      ]
    },
    {
      "cell_type": "markdown",
      "metadata": {
        "id": "1ATo0wsJX66B"
      },
      "source": [
        "A detailed explanation of the Inverse Kinematics Tool can be found on the [Inverse Kinematics page](https://simtk-confluence.stanford.edu:8443/display/OpenSim/Inverse+Kinematics) of the documentation."
      ]
    },
    {
      "cell_type": "markdown",
      "metadata": {
        "id": "e2kJm4w-YuMF"
      },
      "source": [
        "**Download the files**\n",
        "\n",
        "First, let's download the configuration file for the Inverse Kinematics tool."
      ]
    },
    {
      "cell_type": "markdown",
      "metadata": {
        "id": "AlCIWcl6qXd2"
      },
      "source": [
        "The first file to download is the xml configuration file (`ik_setup.xml`) for the IK tool, as well as the model file of the scaled model generated by OpenCap."
      ]
    },
    {
      "cell_type": "code",
      "execution_count": null,
      "metadata": {
        "id": "PoPq74CGj05x"
      },
      "outputs": [],
      "source": [
        "!gdown \"1OscIQTShPZDwkr_S-WLvCGpho9Az4Nl4&confirm=t\" # ik_setup.xml\n",
        "!gdown \"1MELyXawh9z26Y_M2rSN37613XKewOlr4&confirm=t\" # model file"
      ]
    },
    {
      "cell_type": "markdown",
      "metadata": {
        "id": "G6wtd-OJaF6m"
      },
      "source": [
        "**Create IK Tool**\n",
        "\n",
        "The IK Tool helps us solve the Inverse Kinematics problem. We can pass the configuration file we downloaded as a parameter (`ik_setup.xml`)."
      ]
    },
    {
      "cell_type": "code",
      "execution_count": null,
      "metadata": {
        "id": "DaP2nPJraF6m"
      },
      "outputs": [],
      "source": [
        "# Create an IK object using the configuration file.\n",
        "import opensim as osim\n",
        "inverse_kinematics_tool = osim.InverseKinematicsTool('/content/ik_setup.xml')\n",
        "\n",
        "# Print some information of the config file to check that everything is correct.\n",
        "print(\"Name:\", inverse_kinematics_tool.getName())\n",
        "print(\"Model File:\", inverse_kinematics_tool.get_model_file())\n",
        "print(\"Marker File:\", inverse_kinematics_tool.get_marker_file())\n",
        "print(\"Accuracy:\", inverse_kinematics_tool.get_accuracy())\n",
        "print(\"Time Range: [\", inverse_kinematics_tool.get_time_range(0), \",\", inverse_kinematics_tool.get_time_range(1), \"]\")\n",
        "print(\"Constraint Weight:\", inverse_kinematics_tool.get_constraint_weight())\n",
        "print()\n",
        "\n",
        "# Print weights information\n",
        "print(\"Weights:\")\n",
        "task_set = inverse_kinematics_tool.get_IKTaskSet()\n",
        "for i in range(task_set.getSize()):\n",
        "  task = task_set.get(i)\n",
        "  print(task.getName())\n",
        "  print(task.getWeight())\n",
        "  print()"
      ]
    },
    {
      "cell_type": "markdown",
      "metadata": {
        "id": "lm09IBIac8QE"
      },
      "source": [
        "**Perform Inverse Kinematics**\n",
        "\n",
        "Finally, we run the IK tool. You can visualize the resulting motion file (`inverse_kinematics.sto`) by associating it to the model few cells down."
      ]
    },
    {
      "cell_type": "code",
      "execution_count": null,
      "metadata": {
        "id": "k6EIzdm9dEEx"
      },
      "outputs": [],
      "source": [
        "inverse_kinematics_tool.run()"
      ]
    },
    {
      "cell_type": "markdown",
      "metadata": {
        "id": "GLp_exuTePfI"
      },
      "source": [
        "**Visualize IK motion and plot marker errors**\n",
        "\n",
        "The output file `_marker_errors.sto` provides the markers errors associated with each frame of the generated motion. You can parse this file using a `TableProcessor` and visualize the error obtained per frame."
      ]
    },
    {
      "cell_type": "code",
      "execution_count": null,
      "metadata": {
        "id": "aiBr4M-wxrRP"
      },
      "outputs": [],
      "source": [
        "# Use the TableProcessor to read the motion file.\n",
        "table = osim.TableProcessor(\"_ik_marker_errors.sto\")\n",
        "# Process the file.\n",
        "tableErrors = table.process()\n",
        "# Print labels for each column.\n",
        "print(tableErrors.getColumnLabels())"
      ]
    },
    {
      "cell_type": "markdown",
      "metadata": {
        "id": "-Ov2v2k9x5oe"
      },
      "source": [
        "We will plot the total squared error, the RMS error for the markers, and the maximum error for the markers. In the next cell you will extract this information from the motion file.\n"
      ]
    },
    {
      "cell_type": "code",
      "execution_count": null,
      "metadata": {
        "id": "Xhnx_ulsx6CS"
      },
      "outputs": [],
      "source": [
        "# Get columns we want to plot, and the independent column (Time).\n",
        "total_squared_error = tableErrors.getDependentColumn('total_squared_error')\n",
        "marker_error_RMS = tableErrors.getDependentColumn('marker_error_RMS')\n",
        "marker_error_max = tableErrors.getDependentColumn('marker_error_max')\n",
        "x_time = tableErrors.getIndependentColumn()"
      ]
    },
    {
      "cell_type": "markdown",
      "metadata": {
        "id": "WfpRt8xMjhy3"
      },
      "source": [
        "Now, we can plot the error."
      ]
    },
    {
      "cell_type": "code",
      "execution_count": null,
      "metadata": {
        "id": "w4J1bJGpzC3U"
      },
      "outputs": [],
      "source": [
        "import matplotlib.pyplot as plt\n",
        "import numpy as np\n",
        "\n",
        "# Create six subplots, with 2 rows and 3 columns.\n",
        "fig, axs = plt.subplots(1, 1, figsize=(7, 5))\n",
        "fig.suptitle('Markers Error per Frame')\n",
        "\n",
        "# Plot the knee angles on the first subplot.\n",
        "axs.plot(x_time, total_squared_error.to_numpy(), label='total_squared_error')\n",
        "axs.plot(x_time, marker_error_RMS.to_numpy(), label='marker_error_RMS')\n",
        "axs.plot(x_time, marker_error_max.to_numpy(), label='marker_error_max')\n",
        "axs.set_xlabel('Frame Numer')\n",
        "axs.set_ylabel('Error')\n",
        "axs.grid()\n",
        "axs.legend()\n",
        "\n",
        "# Set the spacing between subplots\n",
        "plt.subplots_adjust(wspace=0.5, hspace=0.5)"
      ]
    },
    {
      "cell_type": "markdown",
      "metadata": {
        "id": "uJ25R72HJ9YX"
      },
      "source": [
        "**Questions:**"
      ]
    },
    {
      "cell_type": "markdown",
      "metadata": {
        "id": "_F4VGaDkmW-I"
      },
      "source": [
        "1. Which markers have weighting values less than one? Why?\n",
        "Hint: Think about joints that have not been modeled."
      ]
    },
    {
      "cell_type": "markdown",
      "metadata": {
        "id": "Oa7-QlzImfut"
      },
      "source": [
        "2. What is the root-mean-squared (RMS) error of all the markers in the last frame of the motion? Include units. Does this seem reasonable? Explain."
      ]
    },
    {
      "cell_type": "markdown",
      "metadata": {
        "id": "hSO963Q1J7o9"
      },
      "source": [
        "3. What was the value of the maximum marker error in the last frame? Include units. Which marker had this maximum error, and why?\n",
        "Hint: Think about the weighted least squares problem."
      ]
    },
    {
      "cell_type": "markdown",
      "metadata": {
        "id": "lO6Rw3dq8leY"
      },
      "source": [
        "Now we visualize the model and the associated motion computed by Inverse Kinematics."
      ]
    },
    {
      "cell_type": "code",
      "execution_count": null,
      "metadata": {
        "id": "VTmYSalREdVc"
      },
      "outputs": [],
      "source": [
        "ovp = osimViewport.osimViewport()\n",
        "ovp.addModelAndMotionFiles('/content/LaiArnoldModified2017_scaled.osim',\n",
        "                           ['/content/inverse_kinematics.sto'])\n",
        "ovp.show()"
      ]
    },
    {
      "cell_type": "code",
      "execution_count": null,
      "metadata": {
        "id": "mvDc1leNFdqk"
      },
      "outputs": [],
      "source": [
        "import ipywidgets as widgets\n",
        "from IPython.display import display\n",
        "from google.colab import files\n",
        "layout = widgets.Layout(width='250px')\n",
        "button = widgets.Button(description=\"Download the GLTF file!\", layout=layout)\n",
        "output = widgets.Output()\n",
        "\n",
        "def on_button_clicked(b):\n",
        "  # Display the message within the output widget.\n",
        "  with output:\n",
        "    files.download('/content/LaiArnoldModified2017_scaled.gltf')\n",
        "\n",
        "button.on_click(on_button_clicked)\n",
        "display(button, output)"
      ]
    },
    {
      "cell_type": "code",
      "execution_count": null,
      "metadata": {
        "id": "PxM4jMSrF1Eh"
      },
      "outputs": [],
      "source": [
        "# @title Execute this cell to include the OpenSim Viewer { display-mode: \"form\" }\n",
        "# @markdown Open the downloaded GLTF file from the Opensim Viewer to visualize.\n",
        "\n",
        "from IPython.display import IFrame\n",
        "\n",
        "IFrame('https://dev.d7iaa9a9lxtm6.amplifyapp.com/?css=gui', width=600, height=300)"
      ]
    },
    {
      "cell_type": "markdown",
      "metadata": {
        "id": "SzMh1MS8QazO"
      },
      "source": [
        "## 2.5. Analyze Motion"
      ]
    },
    {
      "cell_type": "markdown",
      "metadata": {
        "id": "QL2BMH6tQiVV"
      },
      "source": [
        "OpenSim provides tools to analyze a motion and compute quantities of interest. This is typically done by performing analyses on a motion trajectory. Examples of analses are: BodyKinematics, PointKinematics, MuscleAnalysis,... []. In this example we will run BodyKinematics to compute and later plot velocities and accelerations of body segments and the center of mass."
      ]
    },
    {
      "cell_type": "markdown",
      "metadata": {
        "id": "cR5SdHfdYH30"
      },
      "source": [
        "A detailed explanation of the Analyze Tool can be found on the [Analysis tool page](https://opensimconfluence.atlassian.net/wiki/spaces/OpenSim/pages/53088479/How+to+Use+the+Analysis+Tool) of the documentation."
      ]
    },
    {
      "cell_type": "markdown",
      "metadata": {
        "id": "wnJUuAW8RGpe"
      },
      "source": [
        "**Download the files**\n",
        "\n",
        "First, let's download the configuration file (`bodykin_setup.xml`) for the Analyze tool. The file is stored in a Google Drive folder."
      ]
    },
    {
      "cell_type": "code",
      "execution_count": null,
      "metadata": {
        "id": "SDK4_QCkk0vo"
      },
      "outputs": [],
      "source": [
        "!gdown \"1jnY3erM7e1GoOvrnB860HOM8gP_zQkra&confirm=t\" # bodykin_setup.xml"
      ]
    },
    {
      "cell_type": "markdown",
      "metadata": {
        "id": "oHeUXkItSy6D"
      },
      "source": [
        "**Create Analysis Tool**\n",
        "\n",
        "The Analyze Tool helps us perform analyses to compute quantities relevant for research questions or clinical assessment. We can pass a configuration file as a parameter, here we use the downloaded file (`bodykin_setup.xml`)."
      ]
    },
    {
      "cell_type": "code",
      "execution_count": null,
      "metadata": {
        "id": "r17DfremSy6E"
      },
      "outputs": [],
      "source": [
        "# Create an Analyze Tool object using the configuration file.\n",
        "analyze_tool = osim.AnalyzeTool('bodykin_setup.xml')\n",
        "\n",
        "# Print some information of the config file to check that everything is correct.\n",
        "print(\"Name:\", analyze_tool.getName())\n",
        "print(\"Model File:\", analyze_tool.getModelFilename())\n",
        "print(\"Time Range: [\", analyze_tool.getInitialTime(), \",\", analyze_tool.getFinalTime(), \"]\")\n",
        "print()"
      ]
    },
    {
      "cell_type": "markdown",
      "metadata": {
        "id": "fHgMyZc2Y6JO"
      },
      "source": [
        "**Run Analyses**\n",
        "\n",
        "Finally, we can run analyses by executing the run method of the Analyze tool."
      ]
    },
    {
      "cell_type": "code",
      "execution_count": null,
      "metadata": {
        "id": "VF3_KRo8Y6Jk"
      },
      "outputs": [],
      "source": [
        "analyze_tool.run()"
      ]
    },
    {
      "cell_type": "markdown",
      "metadata": {
        "id": "lUy_Vm8izR0f"
      },
      "source": [
        "**Plot results**\n",
        "\n",
        "After running the Analyze Tool, a set of files named `*_BodyKinematics_{acc, vel, pos}_global.sto` are generated. These files contain the results of the tool execution, and you can parse them using a Table Processor to plot the results. The contents are the accelerations, velocities and positions of all bodies as well as the center of mass."
      ]
    },
    {
      "cell_type": "code",
      "execution_count": null,
      "metadata": {
        "id": "07K30qNozR0z"
      },
      "outputs": [],
      "source": [
        "# Use the TableProcessor to read the results file.\n",
        "table = osim.TableProcessor(\"/content/LaiArnoldModified2017_scaled_BodyKinematics_pos_global.sto\")\n",
        "# Process the file.\n",
        "tableID = table.process()\n",
        "# Print labels for each column.\n",
        "print(tableID.getColumnLabels())"
      ]
    },
    {
      "cell_type": "code",
      "execution_count": null,
      "metadata": {
        "id": "hxG43RnlzR00"
      },
      "outputs": [],
      "source": [
        "# Get columns we want to represent, and the independent column (Time).\n",
        "com_x_acc = tableID.getDependentColumn('center_of_mass_X')\n",
        "com_y_acc = tableID.getDependentColumn('center_of_mass_Y')\n",
        "x_time = tableID.getIndependentColumn()"
      ]
    },
    {
      "cell_type": "markdown",
      "metadata": {
        "id": "zLngF9DkzR00"
      },
      "source": [
        "Now, we can plot the positions."
      ]
    },
    {
      "cell_type": "code",
      "execution_count": null,
      "metadata": {
        "id": "ql-_ZYAizjw0"
      },
      "outputs": [],
      "source": [
        "import matplotlib.pyplot as plt\n",
        "import numpy as np\n",
        "\n",
        "# Create six subplots, with 2 rows and 3 columns.\n",
        "fig, axs = plt.subplots(1, 1, figsize=(7, 5))\n",
        "fig.suptitle('Center of Mass position')\n",
        "\n",
        "# Plot the knee angles on the first subplot.\n",
        "axs.plot(x_time, com_x_acc.to_numpy(), label='com_position_x')\n",
        "axs.plot(x_time, com_y_acc.to_numpy(), label='com_position_y')\n",
        "axs.set_xlabel('Time')\n",
        "axs.set_ylabel('Position')\n",
        "axs.grid()\n",
        "axs.legend()\n",
        "\n",
        "# Set the spacing between subplots\n",
        "plt.subplots_adjust(wspace=0.5, hspace=0.5)"
      ]
    },
    {
      "cell_type": "markdown",
      "metadata": {
        "id": "oK6v_gocKWSh"
      },
      "source": [
        "**Questions:**"
      ]
    },
    {
      "cell_type": "markdown",
      "metadata": {
        "id": "cC88pJIY3TLV"
      },
      "source": [
        "4. On your plot of the com position, identify when motion events occur (deep squat, stand).\n",
        "\n",
        "5. Plot acceleration of center of mass in Y direction, how does it compare to your expectations, justify."
      ]
    },
    {
      "cell_type": "markdown",
      "metadata": {
        "id": "i7rhPT2id6gg"
      },
      "source": [
        "## 2.6. Conclusion"
      ]
    },
    {
      "cell_type": "markdown",
      "metadata": {
        "id": "1XK9UgItWQMF"
      },
      "source": [
        "In this tutorial you previewed experimental data, and then performed an Inverse Kinematics analysis with a model to solve for a trajectory and then performed an analysis to compute and plot the center of mass of the model during the motion."
      ]
    },
    {
      "cell_type": "markdown",
      "metadata": {
        "id": "TmKy5teg9NSt"
      },
      "source": [
        "## 2.7. Acknowledgements"
      ]
    },
    {
      "cell_type": "markdown",
      "metadata": {
        "id": "8P9cgECE9Rgj"
      },
      "source": [
        "The experimental gait data were collected using OpenCap at Stanford University."
      ]
    },
    {
      "cell_type": "markdown",
      "metadata": {
        "id": "lLWgd8Noun6Y"
      },
      "source": [
        "## 2.8. Useful Links"
      ]
    },
    {
      "cell_type": "markdown",
      "metadata": {
        "id": "m8M3dlT5xQcD"
      },
      "source": [
        "> **OpenSim Website:** https://opensim.stanford.edu/\n",
        ">\n",
        "> **OpenSim API Documentation:** https://simtk.org/api_docs/opensim/api_docs/\n",
        ">\n",
        "> **OpenSim Creator Website:** https://opensimcreator.com/\n",
        ">\n",
        "> **SimTK Website:** https://simtk.org/projects/opensim\n",
        ">\n",
        "> **Biomechanics of Movement's Course:** https://www.youtube.com/channel/UCDNGy0KKNLQ-ztcL5h2Z6zA\n",
        ">\n",
        "> **Webinar on Scaling and Inverse Kinematics in OpenSim:** https://www.youtube.com/watch?v=ZG7wzvQC6eU"
      ]
    },
    {
      "cell_type": "markdown",
      "metadata": {
        "id": "yIZL9H9ygQGU"
      },
      "source": [
        "## 2.9. Acknowledgments\n",
        "\n",
        "The experimental gait data were collected by Alberto using OpenCap. The data include marker trajectories and ground reaction forces for an adult male squatting.\n",
        "\n",
        "Thanks to [OpenSimColab](https://simtk.org/projects/opencolab) project [[9]](https://doi.org/10.1080/10255842.2022.2104607) for creating the first OpenSim Conda package."
      ]
    },
    {
      "cell_type": "markdown",
      "metadata": {
        "id": "2rwqw1LFq6Lz"
      },
      "source": [
        "## 2.10. References"
      ]
    },
    {
      "cell_type": "markdown",
      "metadata": {
        "id": "TpbyAlHvfh8M"
      },
      "source": [
        "\n",
        "> [1].   Delp, S. L., Anderson, F. C., Arnold, A. S., Loan, P., Habib, A., John, C. T., Guendelman, E., & Thelen, D. G. (2007). **OpenSim: open-source software to create and analyze dynamic simulations of movement.** *IEEE Transactions on Bio-Medical Engineering*, 54(11), 1940–1950. https://doi.org/10.1109/TBME.2007.901024\n",
        ">\n",
        "> [2].   Delp, S. L., Loan, J. P., Hoy, M. G., Zajac, F. E., Topp, E. L., & Rosen, J. M. (1990). **An interactive graphics-based model of the lower extremity to study orthopaedic surgical procedures.** *IEEE Transactions on Bio-Medical Engineering*, 37(8), 757–767. https://doi.org/10.1109/10.102791\n",
        ">\n",
        "> [3]. Anderson, F. C., & Pandy, M. G. (1999). **A dynamic optimization solution for vertical jumping in three dimensions.** *Computer Methods in Biomechanics and Biomedical Engineering*, 2(3), 201–231. https://doi.org/10.1080/10255849908907988\n",
        ">\n",
        "> [4]. Winter, D. A. (1990). **The biomechanics and motor control of human movement** (2a ed.). *John Wiley & Sons*. https://onlinelibrary.wiley.com/doi/book/10.1002/9780470549148\n",
        ">\n",
        "> [5]. Kuo, A. D. (1998). **A least-squares estimation approach to improving the precision of inverse dynamics computations.** *Journal of Biomechanical Engineering*, 120(1), 148–159. https://doi.org/10.1115/1.2834295\n",
        ">\n",
        "> [6]. Thelen, D. G., & Anderson, F. C. (2006). **Using computed muscle control to generate forward dynamic simulations of human walking from experimental data.** *Journal of Biomechanics*, 39(6), 1107–1115. https://doi.org/10.1016/j.jbiomech.2005.02.010\n",
        ">\n",
        "> [7]. John, C.T., Anderson, F.C., Guendelman, E., Arnold, A.S., Delp, S.L. (21st October 2006). **An algorithm for generating muscle-actuated simulations of long-duration movements.** *Biomedical Computation at Stanford (BCATS) Symposium*, Stanford University, Poster Presentation. https://bcats.stanford.edu/previous_bcats/bcats06/pdf/BCATS_2006_abstract_book.pdf#page=31\n",
        ">\n",
        "> [8]. John, C. T., Anderson, F. C., Higginson, J. S., & Delp, S. L. (2013). **Stabilisation of walking by intrinsic muscle properties revealed in a three-dimensional muscle-driven simulation.** *Computer Methods in Biomechanics and Biomedical Engineering*, 16(4), 451–462. https://doi.org/10.1080/10255842.2011.627560\n",
        ">\n",
        "> [9] Mokhtarzadeh, H., Jiang, F., Zhao, S., & Malekipour, F. (2022). **OpenColab project: OpenSim in Google colaboratory to explore biomechanics on the web.** *Computer Methods in Biomechanics and Biomedical Engineering*, 1–9. https://doi.org/10.1080/10255842.2022.2104607"
      ]
    }
  ],
  "metadata": {
    "colab": {
      "include_colab_link": true,
      "provenance": [],
      "toc_visible": true
    },
    "kernelspec": {
      "display_name": "Python [conda env:anaconda3]",
      "language": "python",
      "name": "conda-env-anaconda3-py"
    },
    "language_info": {
      "codemirror_mode": {
        "name": "ipython",
        "version": 3
      },
      "file_extension": ".py",
      "mimetype": "text/x-python",
      "name": "python",
      "nbconvert_exporter": "python",
      "pygments_lexer": "ipython3",
      "version": "3.11.7"
    }
  },
  "nbformat": 4,
  "nbformat_minor": 0
}
